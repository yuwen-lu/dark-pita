{
 "cells": [
  {
   "cell_type": "code",
   "execution_count": 1,
   "metadata": {},
   "outputs": [],
   "source": [
    "import json\n",
    "import pandas as pd\n",
    "import datetime\n",
    "from pytz import timezone\n"
   ]
  },
  {
   "cell_type": "code",
   "execution_count": 2,
   "metadata": {},
   "outputs": [],
   "source": [
    "participants = {'107279156336793537009': 1, '115767467286550120166': 2, '104694983709365197975': 3, '108565623227009900784': 4, '107360463347436073559': 5, '100937764714847904352': 6, '105012360635537965053': 7, '110353078720257828530': 8,\n",
    "                '103564003925636425038': 9, '00060000DEDE392A': 10, '100935129088843356602': 11, '116084227873580561392': 12, '117105890044607595797': 13, '107711334134980088812': 14, '107858562133949273618': 15, '107772607988378311880': 16, '109160689719008133998': 17}\n"
   ]
  },
  {
   "cell_type": "code",
   "execution_count": 3,
   "metadata": {},
   "outputs": [],
   "source": [
    "date = '20220907'\n",
    "path = './data/raw/dark-pita-default-rtdb-export_' + date + '.json'\n"
   ]
  },
  {
   "cell_type": "code",
   "execution_count": 4,
   "metadata": {},
   "outputs": [],
   "source": [
    "with open(path, 'r') as json_file:\n",
    "    data = json.load(json_file)['user-data']\n"
   ]
  },
  {
   "cell_type": "markdown",
   "metadata": {},
   "source": [
    "### Data Preprocessing\n"
   ]
  },
  {
   "cell_type": "code",
   "execution_count": 5,
   "metadata": {},
   "outputs": [],
   "source": [
    "# Remove researchers content\n",
    "researcher_ids = ['100689073241975873280',\n",
    "                  '102686626036253115345',\n",
    "                  '105980611853356916531',\n",
    "                  '107417400614572912348',\n",
    "                  '109939652125735554083',\n",
    "                  '112229224879924656055',\n",
    "                  '114069654270801652660']\n"
   ]
  },
  {
   "cell_type": "code",
   "execution_count": 6,
   "metadata": {},
   "outputs": [
    {
     "name": "stdout",
     "output_type": "stream",
     "text": [
      "24 18\n",
      "17 16\n"
     ]
    }
   ],
   "source": [
    "action_log = data['user-action']\n",
    "diary_note = data['user-diary']\n",
    "print(len(action_log), len(diary_note))\n",
    "\n",
    "for researcher_id in researcher_ids:\n",
    "    if researcher_id in action_log:\n",
    "        del action_log[researcher_id]\n",
    "\n",
    "    if researcher_id in diary_note:\n",
    "        del diary_note[researcher_id]\n",
    "print(len(action_log), len(diary_note))\n"
   ]
  },
  {
   "cell_type": "code",
   "execution_count": 7,
   "metadata": {},
   "outputs": [
    {
     "name": "stdout",
     "output_type": "stream",
     "text": [
      "{'00060000DEDE392A': {'id': 10}, '100935129088843356602': {'id': 11}, '100937764714847904352': {'id': 6}, '103564003925636425038': {'id': 9}, '104694983709365197975': {'id': 3}, '105012360635537965053': {'id': 7}, '107279156336793537009': {'id': 1}, '107360463347436073559': {'id': 5}, '107711334134980088812': {'id': 14}, '107772607988378311880': {'id': 16}, '107858562133949273618': {'id': 15}, '108565623227009900784': {'id': 4}, '109160689719008133998': {'id': 17}, '110353078720257828530': {'id': 8}, '115767467286550120166': {'id': 2}, '116084227873580561392': {'id': 12}, '117105890044607595797': {'id': 13}}\n"
     ]
    }
   ],
   "source": [
    "statistics = {}\n",
    "for user_id in action_log.keys():\n",
    "    statistics.update({user_id: {'id': participants[user_id]}})\n",
    "\n",
    "print(statistics)\n"
   ]
  },
  {
   "cell_type": "markdown",
   "metadata": {},
   "source": [
    "### Diary Note Processing\n"
   ]
  },
  {
   "cell_type": "markdown",
   "metadata": {},
   "source": [
    "#### How many times our participants send diary notes?\n"
   ]
  },
  {
   "cell_type": "code",
   "execution_count": 8,
   "metadata": {},
   "outputs": [
    {
     "name": "stdout",
     "output_type": "stream",
     "text": [
      "{'id': 14, 'send_diary_note': 5}\n"
     ]
    }
   ],
   "source": [
    "for user_id in diary_note.keys():\n",
    "    counter = len(diary_note[user_id])\n",
    "    statistics[user_id]['send_diary_note'] = counter\n",
    "\n",
    "for user_id in action_log.keys():\n",
    "    if 'send_diary_note' not in statistics[user_id]:\n",
    "        statistics[user_id]['send_diary_note'] = 0\n",
    "\n",
    "print(statistics['107711334134980088812'])\n"
   ]
  },
  {
   "cell_type": "markdown",
   "metadata": {},
   "source": [
    "#### Export diary notes for each participant\n"
   ]
  },
  {
   "cell_type": "code",
   "execution_count": 9,
   "metadata": {},
   "outputs": [
    {
     "name": "stdout",
     "output_type": "stream",
     "text": [
      "2022-08-29 17:00:59\n"
     ]
    }
   ],
   "source": [
    "def date_transform(timestamp):\n",
    "    data = int(timestamp/1000)\n",
    "    data = datetime.datetime.utcfromtimestamp(data)\n",
    "    utc_tz = timezone('UTC')\n",
    "    data = data.replace(tzinfo=utc_tz)\n",
    "    datas = data.astimezone(timezone('US/Eastern'))\n",
    "    return datas.strftime(\"%Y-%m-%d %H:%M:%S\")\n",
    "\n",
    "\n",
    "print(date_transform(1661806859798))\n"
   ]
  },
  {
   "cell_type": "code",
   "execution_count": 10,
   "metadata": {},
   "outputs": [],
   "source": [
    "header = {'user_id': [], 'date': [], 'question_one': [],\n",
    "          'question_two': [], 'question_three': [], 'screenshot': [], 'url': []}\n",
    "df_diary = pd.DataFrame(header)\n"
   ]
  },
  {
   "cell_type": "code",
   "execution_count": 11,
   "metadata": {},
   "outputs": [],
   "source": [
    "for user_id in diary_note.keys():\n",
    "    for diary_id in diary_note[user_id].keys():\n",
    "        diary = diary_note[user_id][diary_id]\n",
    "        data = {'user_id': participants[user_id], 'date': date_transform(diary['timestamp']), 'question_one': diary['one'],\n",
    "                'question_two': diary['two'], 'question_three': diary['three'], 'screenshot': diary['screenshot'], 'url': diary['url']}\n",
    "        df_diary.loc[len(df_diary)] = data\n",
    "\n",
    "df_diary.to_excel('./data/export/user_diary_note_' +\n",
    "                  date + '.xlsx', index=False)\n"
   ]
  },
  {
   "cell_type": "markdown",
   "metadata": {},
   "source": [
    "### Action Log Processing\n"
   ]
  },
  {
   "cell_type": "markdown",
   "metadata": {},
   "source": [
    "#### When did the participants start the study?\n"
   ]
  },
  {
   "cell_type": "code",
   "execution_count": 12,
   "metadata": {},
   "outputs": [
    {
     "name": "stdout",
     "output_type": "stream",
     "text": [
      "{'id': 8, 'send_diary_note': 16, 'start_date': '2022-08-24 14:41:15'}\n"
     ]
    }
   ],
   "source": [
    "for user_id in action_log.keys():\n",
    "    statistics[user_id]['start_date'] = date_transform(\n",
    "        list(action_log[user_id].values())[0]['timestamp'])\n",
    "\n",
    "print(statistics['110353078720257828530'])\n"
   ]
  },
  {
   "cell_type": "markdown",
   "metadata": {},
   "source": [
    "#### How many actions each participant creates\n"
   ]
  },
  {
   "cell_type": "code",
   "execution_count": 13,
   "metadata": {},
   "outputs": [
    {
     "name": "stdout",
     "output_type": "stream",
     "text": [
      "{'id': 8, 'send_diary_note': 16, 'start_date': '2022-08-24 14:41:15', 'send_action': 7608}\n"
     ]
    }
   ],
   "source": [
    "for user_id in action_log.keys():\n",
    "    counter = 0\n",
    "    for action_id in action_log[user_id].keys():\n",
    "        counter = counter + 1\n",
    "\n",
    "    statistics[user_id]['send_action'] = counter\n",
    "\n",
    "print(statistics['110353078720257828530'])\n"
   ]
  },
  {
   "cell_type": "markdown",
   "metadata": {},
   "source": [
    "#### How many times our participants enter sites containing our sampled dark pattern instances (i.e., how many times our probe is triggered)?\n"
   ]
  },
  {
   "cell_type": "code",
   "execution_count": 14,
   "metadata": {},
   "outputs": [
    {
     "name": "stdout",
     "output_type": "stream",
     "text": [
      "{'id': 14, 'send_diary_note': 5, 'start_date': '2022-08-27 14:27:56', 'send_action': 8901, 'trigger_probe': 290}\n"
     ]
    }
   ],
   "source": [
    "# When the site contains an instance, the banner would be triggered.\n",
    "\n",
    "for user_id in action_log.keys():\n",
    "    counter = 0\n",
    "    for action_id in action_log[user_id].keys():\n",
    "        if 'description' in action_log[user_id][action_id] and action_log[user_id][action_id]['description'] == 'trigger banner':\n",
    "            counter = counter + 1\n",
    "\n",
    "    statistics[user_id]['trigger_probe'] = counter\n",
    "\n",
    "print(statistics['107711334134980088812'])\n"
   ]
  },
  {
   "cell_type": "markdown",
   "metadata": {},
   "source": [
    "#### How many times our participants change dark patterns (i.e., how many times they select a UI alternative and save changes)?\n"
   ]
  },
  {
   "cell_type": "code",
   "execution_count": 15,
   "metadata": {},
   "outputs": [
    {
     "name": "stdout",
     "output_type": "stream",
     "text": [
      "{'id': 14, 'send_diary_note': 5, 'start_date': '2022-08-27 14:27:56', 'send_action': 8901, 'trigger_probe': 290, 'change_dark_pattern': 17}\n"
     ]
    }
   ],
   "source": [
    "# When users change a dark pattern, they have to choose a UI alternative and save settings.\n",
    "for user_id in action_log.keys():\n",
    "    counter = 0\n",
    "    save_settings = []\n",
    "    for action_id in action_log[user_id].keys():\n",
    "        if 'description' in action_log[user_id][action_id] and action_log[user_id][action_id]['description'] == 'save settings':\n",
    "            counter = counter + 1\n",
    "            save_settings.append(action_log[user_id][action_id])\n",
    "    statistics[user_id]['change_dark_pattern'] = counter\n",
    "\n",
    "    # Export individual user actions for all changes of UI alternatives\n",
    "    data = {'timestamp': []}\n",
    "    for save_setting in save_settings:\n",
    "        data['timestamp'] = date_transform(save_setting['timestamp'])\n",
    "        for key in save_setting['action']:\n",
    "            if key in data:\n",
    "                data[key].append(save_setting['action'][key])\n",
    "            else:\n",
    "                data[key] = [save_setting['action'][key]]\n",
    "\n",
    "    df = pd.DataFrame(data)\n",
    "    df.to_excel('./data/export/individual_user_action/' +\n",
    "                user_id + '_action_' + date + '.xlsx', index=False)\n",
    "\n",
    "print(statistics['107711334134980088812'])\n"
   ]
  },
  {
   "cell_type": "markdown",
   "metadata": {},
   "source": [
    "#### How many times our participants experience each UI alternative?\n"
   ]
  },
  {
   "cell_type": "code",
   "execution_count": 16,
   "metadata": {},
   "outputs": [
    {
     "name": "stdout",
     "output_type": "stream",
     "text": [
      "31\n"
     ]
    }
   ],
   "source": [
    "ui_alternatives = ['amazon_buy_now_hide', 'amazon_buy_now_fairness', 'amazon_buy_now_friction', 'amazon_disguised_ads_hide', 'amazon_disguised_ads_friction', 'amazon_disguised_ads_disclosure', 'amazon_disguised_ads_counterfact', 'amazon_discount_price_hide', 'amazon_discount_price_disclosure', 'amazon_discount_price_reflection', 'amazon_discount_price_action', 'amazon_home_card_focus', 'amazon_home_card_reflection', 'amazon_home_card_progress', 'youtube_recommended_video_focus',\n",
    "                   'youtube_recommended_video_preview', 'youtube_recommended_video_reflection', 'youtube_video_dislike_fairness', 'youtube_sidebar_video_focus', 'youtube_sidebar_video_preview', 'youtube_sidebar_video_reflection', 'twitter_whats_happening_hide', 'twitter_promoted_highlight', 'twitter_promoted_friction', 'facebook_reels_hide', 'facebook_reels_counterfact', 'facebook_reels_friction', 'facebook_suggested_for_you_hide', 'facebook_suggested_for_you_highlight', 'netflix_timeline_reflection', 'netflix_hugepreview_disable']\n",
    "print(len(ui_alternatives))\n"
   ]
  },
  {
   "cell_type": "code",
   "execution_count": 17,
   "metadata": {},
   "outputs": [
    {
     "name": "stdout",
     "output_type": "stream",
     "text": [
      "{'id': 14, 'send_diary_note': 5, 'start_date': '2022-08-27 14:27:56', 'send_action': 8901, 'trigger_probe': 290, 'change_dark_pattern': 17, 'amazon_buy_now_hide': 0, 'amazon_buy_now_fairness': 0, 'amazon_buy_now_friction': 0, 'amazon_disguised_ads_hide': 6, 'amazon_disguised_ads_friction': 10, 'amazon_disguised_ads_disclosure': 2, 'amazon_disguised_ads_counterfact': 2, 'amazon_discount_price_hide': 0, 'amazon_discount_price_disclosure': 0, 'amazon_discount_price_reflection': 0, 'amazon_discount_price_action': 0, 'amazon_home_card_focus': 4, 'amazon_home_card_reflection': 4, 'amazon_home_card_progress': 11, 'youtube_recommended_video_focus': 14, 'youtube_recommended_video_preview': 2232, 'youtube_recommended_video_reflection': 4, 'youtube_video_dislike_fairness': 0, 'youtube_sidebar_video_focus': 2025, 'youtube_sidebar_video_preview': 6, 'youtube_sidebar_video_reflection': 3, 'twitter_whats_happening_hide': 70, 'twitter_promoted_highlight': 2, 'twitter_promoted_friction': 146, 'facebook_reels_hide': 0, 'facebook_reels_counterfact': 0, 'facebook_reels_friction': 0, 'facebook_suggested_for_you_hide': 0, 'facebook_suggested_for_you_highlight': 0, 'netflix_timeline_reflection': 0, 'netflix_hugepreview_disable': 7}\n"
     ]
    }
   ],
   "source": [
    "# When users change a dark pattern, they have to choose a UI alternative and save settings.\n",
    "\n",
    "for ui_alternative in ui_alternatives:\n",
    "    for user_id in action_log.keys():\n",
    "        counter = 0\n",
    "        for action_id in action_log[user_id].keys():\n",
    "            if 'action' in action_log[user_id][action_id] and action_log[user_id][action_id]['action'] == 1 and 'description' in action_log[user_id][action_id] and ui_alternative in action_log[user_id][action_id]['description']:\n",
    "                counter = counter + 1\n",
    "\n",
    "        statistics[user_id][ui_alternative] = counter\n",
    "\n",
    "print(statistics['107711334134980088812'])\n"
   ]
  },
  {
   "cell_type": "markdown",
   "metadata": {},
   "source": [
    "#### Which sites are accessed by our participants?\n"
   ]
  },
  {
   "cell_type": "code",
   "execution_count": 18,
   "metadata": {},
   "outputs": [],
   "source": [
    "sites = {'amazon': ['amazon_buy_now_hide', 'amazon_buy_now_fairness', 'amazon_buy_now_friction', 'amazon_disguised_ads_hide', 'amazon_disguised_ads_friction', 'amazon_disguised_ads_disclosure', 'amazon_disguised_ads_counterfact', 'amazon_discount_price_hide', 'amazon_discount_price_disclosure', 'amazon_discount_price_reflection', 'amazon_discount_price_action', 'amazon_home_card_focus', 'amazon_home_card_reflection', 'amazon_home_card_progress'],\n",
    "         'youtube': ['youtube_recommended_video_focus', 'youtube_recommended_video_preview', 'youtube_recommended_video_reflection', 'youtube_video_dislike_fairness', 'youtube_sidebar_video_focus', 'youtube_sidebar_video_preview', 'youtube_sidebar_video_reflection'],\n",
    "         'twitter': ['twitter_whats_happening_hide', 'twitter_promoted_highlight', 'twitter_promoted_friction'],\n",
    "         'facebook': ['facebook_reels_hide', 'facebook_reels_counterfact', 'facebook_reels_friction', 'facebook_suggested_for_you_hide', 'facebook_suggested_for_you_highlight'],\n",
    "         'nextflix': ['netflix_timeline_reflection', 'netflix_hugepreview_disable']}\n"
   ]
  },
  {
   "cell_type": "code",
   "execution_count": 19,
   "metadata": {},
   "outputs": [
    {
     "name": "stdout",
     "output_type": "stream",
     "text": [
      "{'id': 14, 'send_diary_note': 5, 'start_date': '2022-08-27 14:27:56', 'send_action': 8901, 'trigger_probe': 290, 'change_dark_pattern': 17, 'amazon_buy_now_hide': 0, 'amazon_buy_now_fairness': 0, 'amazon_buy_now_friction': 0, 'amazon_disguised_ads_hide': 6, 'amazon_disguised_ads_friction': 10, 'amazon_disguised_ads_disclosure': 2, 'amazon_disguised_ads_counterfact': 2, 'amazon_discount_price_hide': 0, 'amazon_discount_price_disclosure': 0, 'amazon_discount_price_reflection': 0, 'amazon_discount_price_action': 0, 'amazon_home_card_focus': 4, 'amazon_home_card_reflection': 4, 'amazon_home_card_progress': 11, 'youtube_recommended_video_focus': 14, 'youtube_recommended_video_preview': 2232, 'youtube_recommended_video_reflection': 4, 'youtube_video_dislike_fairness': 0, 'youtube_sidebar_video_focus': 2025, 'youtube_sidebar_video_preview': 6, 'youtube_sidebar_video_reflection': 3, 'twitter_whats_happening_hide': 70, 'twitter_promoted_highlight': 2, 'twitter_promoted_friction': 146, 'facebook_reels_hide': 0, 'facebook_reels_counterfact': 0, 'facebook_reels_friction': 0, 'facebook_suggested_for_you_hide': 0, 'facebook_suggested_for_you_highlight': 0, 'netflix_timeline_reflection': 0, 'netflix_hugepreview_disable': 7, 'amazon': 1, 'youtube': 1, 'twitter': 1, 'facebook': 0, 'nextflix': 1}\n"
     ]
    }
   ],
   "source": [
    "for user_id in statistics:\n",
    "    for site in sites.keys():\n",
    "        statistics[user_id][site] = 0\n",
    "        for ui_alternative in sites[site]:\n",
    "            if statistics[user_id][ui_alternative] > 0:\n",
    "                statistics[user_id][site] = 1\n",
    "\n",
    "print(statistics['107711334134980088812'])\n"
   ]
  },
  {
   "cell_type": "markdown",
   "metadata": {},
   "source": [
    "#### Export action statistics\n"
   ]
  },
  {
   "cell_type": "code",
   "execution_count": 20,
   "metadata": {},
   "outputs": [],
   "source": [
    "data = {}\n",
    "for user_id in statistics:\n",
    "    for key in statistics[user_id]:\n",
    "        if key in data:\n",
    "            data[key].append(statistics[user_id][key])\n",
    "        else:\n",
    "            data[key] = [statistics[user_id][key]]\n",
    "\n",
    "df_action = pd.DataFrame(data)\n",
    "df_action.to_excel('./data/export/user_action_statistics_' +\n",
    "                   date + '.xlsx', index=False)\n"
   ]
  },
  {
   "cell_type": "markdown",
   "metadata": {},
   "source": [
    "#### Daily actions\n"
   ]
  },
  {
   "cell_type": "code",
   "execution_count": 21,
   "metadata": {},
   "outputs": [
    {
     "name": "stdout",
     "output_type": "stream",
     "text": [
      "810\n"
     ]
    }
   ],
   "source": [
    "import time\n",
    "\n",
    "\n",
    "def day_counter(day1, day2):\n",
    "    time_array1 = time.strptime(day1, \"%Y-%m-%d\")\n",
    "    timestamp_day1 = int(time.mktime(time_array1))\n",
    "    time_array2 = time.strptime(day2, \"%Y-%m-%d\")\n",
    "    timestamp_day2 = int(time.mktime(time_array2))\n",
    "    result = (timestamp_day2 - timestamp_day1) // 60 // 60 // 24\n",
    "    return result\n",
    "\n",
    "\n",
    "day1 = \"2018-07-09\"\n",
    "day2 = \"2020-09-26\"\n",
    "print(day_counter(day1, day2))\n"
   ]
  },
  {
   "cell_type": "code",
   "execution_count": 27,
   "metadata": {},
   "outputs": [],
   "source": [
    "start_date = ['2022-08-22', '2022-08-23', '2022-08-23', '2022-08-23', '2022-08-24', '2022-08-24', '2022-08-24', '2022-08-24',\n",
    "              '2022-08-24', '2022-08-25', '2022-08-25', '2022-08-26', '2022-08-26', '2022-08-27', '2022-08-27', '2022-08-27', '2022-08-27', ]\n",
    "daily_action = []\n",
    "\n",
    "day_span = 14\n",
    "for day in range(day_span):\n",
    "    records = []\n",
    "    for user_id in participants.keys():\n",
    "        user_action = {'trigger banner': 0, 'save settings': 0}\n",
    "        for action_id in action_log[user_id].keys():\n",
    "            action_date = date_transform(\n",
    "                action_log[user_id][action_id]['timestamp'])[:10]\n",
    "            # print(day_counter(start_date[participants[user_id]], action_date))\n",
    "            if (day_counter(start_date[participants[user_id]-1], action_date) == day):\n",
    "                if 'description' in action_log[user_id][action_id] and action_log[user_id][action_id]['description'] == 'trigger banner':\n",
    "                    user_action['trigger banner'] = 1\n",
    "                if 'description' in action_log[user_id][action_id] and action_log[user_id][action_id]['description'] == 'save settings':\n",
    "                    user_action['save settings'] = 1\n",
    "        records.append(user_action)\n",
    "    daily_action.append(records)\n",
    "\n",
    "\n",
    "# print(daily_action)\n"
   ]
  },
  {
   "cell_type": "code",
   "execution_count": 28,
   "metadata": {},
   "outputs": [],
   "source": [
    "start_date = ['2022-08-22', '2022-08-23', '2022-08-23', '2022-08-23', '2022-08-24', '2022-08-24', '2022-08-24', '2022-08-24',\n",
    "              '2022-08-24', '2022-08-25', '2022-08-25', '2022-08-26', '2022-08-26', '2022-08-27', '2022-08-27', '2022-08-27', '2022-08-27', ]\n",
    "daily_dairy = []\n",
    "\n",
    "day_span = 14\n",
    "for day in range(day_span):\n",
    "    records = []\n",
    "    for user_id in participants.keys():\n",
    "        user_action = {'send diary': 0}\n",
    "        if user_id in diary_note.keys():\n",
    "            for diary_id in diary_note[user_id].keys():\n",
    "                diary_date = date_transform(diary_note[user_id][diary_id]['timestamp'])[:10]\n",
    "                if (day_counter(start_date[participants[user_id]-1], diary_date) == day):\n",
    "                    user_action['send diary'] = 1\n",
    "        records.append(user_action)\n",
    "    daily_dairy.append(records)\n",
    "\n",
    "# print(daily_dairy)\n"
   ]
  },
  {
   "cell_type": "code",
   "execution_count": 29,
   "metadata": {},
   "outputs": [
    {
     "name": "stdout",
     "output_type": "stream",
     "text": [
      "[['ab', 'ab', 'ab', 'ab', 'ab', 'abc', 'abc', 'ac', 'abc', 'abc', 'abc', 'ab', 'abc', 'ab', 'ab', 'ab', 'ab'], ['a', '', '', 'a', 'ac', '', 'abc', 'ac', 'abc', 'abc', 'ac', 'a', 'abc', 'abc', 'ab', '', 'ac'], ['a', '', 'ac', '', 'ac', '', 'abc', 'ac', 'ab', '', 'ac', 'a', '', 'ab', 'abc', 'abc', ''], ['a', 'a', 'a', '', 'ac', '', 'abc', 'abc', 'abc', 'abc', 'ac', 'ab', 'abc', 'a', 'abc', 'ab', ''], ['', '', 'a', '', 'ac', '', 'ac', 'ab', '', '', '', 'a', '', 'abc', 'ab', 'abc', ''], ['', '', 'a', '', '', '', 'a', 'a', 'a', 'abc', '', 'a', '', 'a', 'abc', 'a', ''], ['', 'a', 'abc', '', 'ac', 'a', 'a', 'ac', 'a', '', 'ac', 'a', 'ab', 'a', '', 'a', ''], ['', 'abc', 'a', '', 'abc', '', 'abc', 'ab', 'ab', 'abc', 'ac', 'abc', '', 'abc', 'abc', 'a', ''], ['abc', 'a', 'ac', '', '', 'a', 'ac', 'ac', '', 'ab', '', 'a', 'a', 'a', 'a', 'a', ''], ['', 'a', 'ab', '', 'ac', 'a', 'ab', 'ac', '', 'a', '', 'a', 'c', 'ab', 'abc', 'abc', ''], ['', 'a', 'ab', '', '', '', 'ab', 'ac', '', 'a', '', 'a', 'a', 'ac', 'a', 'ab', ''], ['', '', '', '', 'ac', '', 'abc', 'a', '', 'a', '', 'a', '', '', '', '', ''], ['', '', '', '', 'ac', '', 'a', 'ac', '', 'a', '', '', '', '', '', '', ''], ['a', 'a', '', '', 'ac', '', 'ac', 'a', '', '', '', '', '', '', '', '', '']]\n"
     ]
    }
   ],
   "source": [
    "outputs = []\n",
    "\n",
    "day_span = 14\n",
    "for day in range(day_span):\n",
    "    entry = []\n",
    "    for user_id in range(17):\n",
    "        i = ''\n",
    "        if daily_action[day][user_id]['trigger banner']:\n",
    "            i = i + 'a'\n",
    "        if daily_action[day][user_id]['save settings']:\n",
    "            i = i + 'b'\n",
    "        if daily_dairy[day][user_id]['send diary']:\n",
    "            i = i + 'c'\n",
    "        entry.append(i)\n",
    "    outputs.append(entry)\n",
    "\n",
    "print(outputs)"
   ]
  },
  {
   "cell_type": "code",
   "execution_count": 30,
   "metadata": {},
   "outputs": [],
   "source": [
    "df = pd.DataFrame({'day{}'.format(i+1): x for i,x in enumerate(outputs)})\n",
    "df.to_excel('./data/export/user_daily_action_diary' +\n",
    "                   date + '.xlsx', index=False)"
   ]
  },
  {
   "cell_type": "code",
   "execution_count": null,
   "metadata": {},
   "outputs": [],
   "source": []
  }
 ],
 "metadata": {
  "kernelspec": {
   "display_name": "Python 3.7.0 ('nlp')",
   "language": "python",
   "name": "python3"
  },
  "language_info": {
   "codemirror_mode": {
    "name": "ipython",
    "version": 3
   },
   "file_extension": ".py",
   "mimetype": "text/x-python",
   "name": "python",
   "nbconvert_exporter": "python",
   "pygments_lexer": "ipython3",
   "version": "3.7.0"
  },
  "orig_nbformat": 4,
  "vscode": {
   "interpreter": {
    "hash": "9293985de1cf4e2c3aa40c4cf1f5da2f03c5c98420dc5d0e8935976a7852b3b5"
   }
  }
 },
 "nbformat": 4,
 "nbformat_minor": 2
}

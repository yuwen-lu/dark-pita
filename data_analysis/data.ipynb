{
 "cells": [
  {
   "cell_type": "code",
   "execution_count": 33,
   "metadata": {},
   "outputs": [],
   "source": [
    "import json\n",
    "import pandas as pd\n",
    "import datetime\n",
    "from pytz import timezone\n"
   ]
  },
  {
   "cell_type": "code",
   "execution_count": 34,
   "metadata": {},
   "outputs": [],
   "source": [
    "path = './data/raw/dark-pita-default-rtdb-export_20220831.json'\n"
   ]
  },
  {
   "cell_type": "code",
   "execution_count": 35,
   "metadata": {},
   "outputs": [],
   "source": [
    "with open(path, 'r') as json_file:\n",
    "    data = json.load(json_file)['user-data']\n"
   ]
  },
  {
   "cell_type": "markdown",
   "metadata": {},
   "source": [
    "### Data Preprocessing\n"
   ]
  },
  {
   "cell_type": "code",
   "execution_count": 36,
   "metadata": {},
   "outputs": [],
   "source": [
    "# Remove researchers content\n",
    "researcher_ids = ['100689073241975873280',\n",
    "                  '102686626036253115345',\n",
    "                  '105980611853356916531',\n",
    "                  '107417400614572912348',\n",
    "                  '109939652125735554083',\n",
    "                  '112229224879924656055',\n",
    "                  '114069654270801652660']\n"
   ]
  },
  {
   "cell_type": "code",
   "execution_count": 37,
   "metadata": {},
   "outputs": [
    {
     "name": "stdout",
     "output_type": "stream",
     "text": [
      "24 17\n",
      "17 15\n"
     ]
    }
   ],
   "source": [
    "action_log = data['user-action']\n",
    "diary_note = data['user-diary']\n",
    "print(len(action_log), len(diary_note))\n",
    "\n",
    "for researcher_id in researcher_ids:\n",
    "    if researcher_id in action_log:\n",
    "        del action_log[researcher_id]\n",
    "\n",
    "    if researcher_id in diary_note:\n",
    "        del diary_note[researcher_id]\n",
    "print(len(action_log), len(diary_note))\n"
   ]
  },
  {
   "cell_type": "code",
   "execution_count": 38,
   "metadata": {},
   "outputs": [
    {
     "name": "stdout",
     "output_type": "stream",
     "text": [
      "{'00060000DEDE392A': {'id': '00060000DEDE392A'}, '100935129088843356602': {'id': '100935129088843356602'}, '100937764714847904352': {'id': '100937764714847904352'}, '103564003925636425038': {'id': '103564003925636425038'}, '104694983709365197975': {'id': '104694983709365197975'}, '105012360635537965053': {'id': '105012360635537965053'}, '107279156336793537009': {'id': '107279156336793537009'}, '107360463347436073559': {'id': '107360463347436073559'}, '107711334134980088812': {'id': '107711334134980088812'}, '107772607988378311880': {'id': '107772607988378311880'}, '107858562133949273618': {'id': '107858562133949273618'}, '108565623227009900784': {'id': '108565623227009900784'}, '109160689719008133998': {'id': '109160689719008133998'}, '110353078720257828530': {'id': '110353078720257828530'}, '115767467286550120166': {'id': '115767467286550120166'}, '116084227873580561392': {'id': '116084227873580561392'}, '117105890044607595797': {'id': '117105890044607595797'}}\n"
     ]
    }
   ],
   "source": [
    "statistics = {}\n",
    "for user_id in action_log.keys():\n",
    "    statistics.update({user_id: {'id': user_id}})\n",
    "\n",
    "print(statistics)\n"
   ]
  },
  {
   "cell_type": "markdown",
   "metadata": {},
   "source": [
    "### Diary note Processing\n"
   ]
  },
  {
   "cell_type": "markdown",
   "metadata": {},
   "source": [
    "#### How many times our participants send diary notes?\n"
   ]
  },
  {
   "cell_type": "code",
   "execution_count": 39,
   "metadata": {},
   "outputs": [
    {
     "name": "stdout",
     "output_type": "stream",
     "text": [
      "{'id': '107711334134980088812', 'send_diary_note': 2}\n"
     ]
    }
   ],
   "source": [
    "for user_id in diary_note.keys():\n",
    "    counter = len(diary_note[user_id])\n",
    "    statistics[user_id]['send_diary_note'] = counter\n",
    "\n",
    "for user_id in action_log.keys():\n",
    "    if 'send_diary_note' not in statistics[user_id]:\n",
    "        statistics[user_id]['send_diary_note'] = 0\n",
    "\n",
    "print(statistics['107711334134980088812'])\n"
   ]
  },
  {
   "cell_type": "markdown",
   "metadata": {},
   "source": [
    "#### Export diary notes for each participant\n"
   ]
  },
  {
   "cell_type": "code",
   "execution_count": 40,
   "metadata": {},
   "outputs": [
    {
     "name": "stdout",
     "output_type": "stream",
     "text": [
      "2022-08-29 17:00:59\n"
     ]
    }
   ],
   "source": [
    "def date_transform(timestamp):\n",
    "    data = int(timestamp/1000)\n",
    "    data = datetime.datetime.utcfromtimestamp(data)\n",
    "    utc_tz = timezone('UTC')\n",
    "    data = data.replace(tzinfo=utc_tz)\n",
    "    datas = data.astimezone(timezone('US/Eastern'))\n",
    "    return datas.strftime(\"%Y-%m-%d %H:%M:%S\")\n",
    "\n",
    "\n",
    "print(date_transform(1661806859798))\n"
   ]
  },
  {
   "cell_type": "code",
   "execution_count": 41,
   "metadata": {},
   "outputs": [],
   "source": [
    "header = {'user_id': [], 'date': [], 'question_one': [],\n",
    "          'question_two': [], 'question_three': [], 'screenshot': [], 'url': []}\n",
    "df_diary = pd.DataFrame(header)\n"
   ]
  },
  {
   "cell_type": "code",
   "execution_count": 42,
   "metadata": {},
   "outputs": [],
   "source": [
    "for user_id in diary_note.keys():\n",
    "    for diary_id in diary_note[user_id].keys():\n",
    "        diary = diary_note[user_id][diary_id]\n",
    "        data = {'user_id': user_id, 'date': date_transform(diary['timestamp']), 'question_one': diary['one'],\n",
    "                'question_two': diary['two'], 'question_three': diary['three'], 'screenshot': diary['screenshot'], 'url': diary['url']}\n",
    "        df_diary.loc[len(df_diary)] = data\n",
    "\n",
    "df_diary.to_excel('./data/export/user_diary_note_20220831.xlsx')\n"
   ]
  },
  {
   "cell_type": "markdown",
   "metadata": {},
   "source": [
    "### Action Log Processing\n"
   ]
  },
  {
   "cell_type": "markdown",
   "metadata": {},
   "source": [
    "#### How many actions each participant creates"
   ]
  },
  {
   "cell_type": "code",
   "execution_count": 43,
   "metadata": {},
   "outputs": [
    {
     "name": "stdout",
     "output_type": "stream",
     "text": [
      "{'id': '110353078720257828530', 'send_diary_note': 9, 'send_action': 1515}\n"
     ]
    }
   ],
   "source": [
    "for user_id in action_log.keys():\n",
    "    counter = 0\n",
    "    for action_id in action_log[user_id].keys():\n",
    "        counter = counter + 1\n",
    "\n",
    "    statistics[user_id]['send_action'] = counter\n",
    "\n",
    "print(statistics['110353078720257828530'])\n"
   ]
  },
  {
   "cell_type": "markdown",
   "metadata": {},
   "source": [
    "#### How many times our participants enter sites containing our sampled dark pattern instances (i.e., how many times our probe is triggered)?\n"
   ]
  },
  {
   "cell_type": "code",
   "execution_count": 44,
   "metadata": {},
   "outputs": [
    {
     "name": "stdout",
     "output_type": "stream",
     "text": [
      "{'id': '107711334134980088812', 'send_diary_note': 2, 'send_action': 6547, 'trigger_probe': 175}\n"
     ]
    }
   ],
   "source": [
    "# When the site contains an instance, the banner would be triggered.\n",
    "\n",
    "for user_id in action_log.keys():\n",
    "    counter = 0\n",
    "    for action_id in action_log[user_id].keys():\n",
    "        if 'description' in action_log[user_id][action_id] and action_log[user_id][action_id]['description'] == 'trigger banner':\n",
    "            counter = counter + 1\n",
    "\n",
    "    statistics[user_id]['trigger_probe'] = counter\n",
    "\n",
    "print(statistics['107711334134980088812'])\n"
   ]
  },
  {
   "cell_type": "markdown",
   "metadata": {},
   "source": [
    "#### How many times our participants change dark patterns (i.e., how many times they select a UI alternative and save changes)?\n"
   ]
  },
  {
   "cell_type": "code",
   "execution_count": 50,
   "metadata": {},
   "outputs": [
    {
     "name": "stdout",
     "output_type": "stream",
     "text": [
      "{'id': '107711334134980088812', 'send_diary_note': 2, 'send_action': 6547, 'trigger_probe': 175, 'change_dark_pattern': 12}\n"
     ]
    }
   ],
   "source": [
    "# When users change a dark pattern, they have to choose a UI alternative and save settings.\n",
    "for user_id in action_log.keys():\n",
    "    counter = 0\n",
    "    save_settings = []\n",
    "    for action_id in action_log[user_id].keys():\n",
    "        if 'description' in action_log[user_id][action_id] and action_log[user_id][action_id]['description'] == 'save settings':\n",
    "            counter = counter + 1\n",
    "            save_settings.append(action_log[user_id][action_id])\n",
    "    statistics[user_id]['change_dark_pattern'] = counter\n",
    "\n",
    "    # Export individual user actions for all changes of UI alternatives\n",
    "    data = {'timestamp': []}\n",
    "    for save_setting in save_settings:        \n",
    "        data['timestamp'] = date_transform(save_setting['timestamp'])\n",
    "        for key in save_setting['action']:\n",
    "            if key in data:\n",
    "                data[key].append(save_setting['action'][key])\n",
    "            else:\n",
    "                data[key] = [save_setting['action'][key]]\n",
    "\n",
    "    df = pd.DataFrame(data)\n",
    "    df.to_excel('./data/export/individual_user_action/' + user_id + '_action_20220831.xlsx')\n",
    "\n",
    "print(statistics['107711334134980088812'])\n"
   ]
  },
  {
   "cell_type": "markdown",
   "metadata": {},
   "source": [
    "#### How many times our participants experience each UI alternative?\n"
   ]
  },
  {
   "cell_type": "code",
   "execution_count": 30,
   "metadata": {},
   "outputs": [
    {
     "name": "stdout",
     "output_type": "stream",
     "text": [
      "31\n"
     ]
    }
   ],
   "source": [
    "ui_alternatives = ['amazon_buy_now_hide', 'amazon_buy_now_fairness', 'amazon_buy_now_friction', 'amazon_disguised_ads_hide', 'amazon_disguised_ads_friction', 'amazon_disguised_ads_disclosure', 'amazon_disguised_ads_counterfact', 'amazon_discount_price_hide', 'amazon_discount_price_disclosure', 'amazon_discount_price_reflection', 'amazon_discount_price_action', 'amazon_home_card_focus', 'amazon_home_card_reflection', 'amazon_home_card_progress', 'youtube_recommended_video_focus',\n",
    "                   'youtube_recommended_video_preview', 'youtube_recommended_video_reflection', 'youtube_video_dislike_fairness', 'youtube_sidebar_video_focus', 'youtube_sidebar_video_preview', 'youtube_sidebar_video_reflection', 'twitter_whats_happening_hide', 'twitter_promoted_highlight', 'twitter_promoted_friction', 'facebook_reels_hide', 'facebook_reels_counterfact', 'facebook_reels_friction', 'facebook_suggested_for_you_hide', 'facebook_suggested_for_you_highlight', 'netflix_timeline_reflection', 'netflix_hugepreview_disable']\n",
    "print(len(ui_alternatives))\n"
   ]
  },
  {
   "cell_type": "code",
   "execution_count": 31,
   "metadata": {},
   "outputs": [
    {
     "name": "stdout",
     "output_type": "stream",
     "text": [
      "{'id': '107711334134980088812', 'send_diary_note': 2, 'send_action': 6547, 'trigger_probe': 175, 'change_dark_pattern': 12, 'amazon_buy_now_hide': 0, 'amazon_buy_now_fairness': 0, 'amazon_buy_now_friction': 0, 'amazon_disguised_ads_hide': 2, 'amazon_disguised_ads_friction': 10, 'amazon_disguised_ads_disclosure': 2, 'amazon_disguised_ads_counterfact': 2, 'amazon_discount_price_hide': 0, 'amazon_discount_price_disclosure': 0, 'amazon_discount_price_reflection': 0, 'amazon_discount_price_action': 0, 'amazon_home_card_focus': 1, 'amazon_home_card_reflection': 2, 'amazon_home_card_progress': 1, 'youtube_recommended_video_focus': 12, 'youtube_recommended_video_preview': 2216, 'youtube_recommended_video_reflection': 4, 'youtube_video_dislike_fairness': 0, 'youtube_sidebar_video_focus': 2024, 'youtube_sidebar_video_preview': 6, 'youtube_sidebar_video_reflection': 3, 'twitter_whats_happening_hide': 42, 'twitter_promoted_highlight': 2, 'twitter_promoted_friction': 66, 'facebook_reels_hide': 0, 'facebook_reels_counterfact': 0, 'facebook_reels_friction': 0, 'facebook_suggested_for_you_hide': 0, 'facebook_suggested_for_you_highlight': 0, 'netflix_timeline_reflection': 0, 'netflix_hugepreview_disable': 7}\n"
     ]
    }
   ],
   "source": [
    "# When users change a dark pattern, they have to choose a UI alternative and save settings.\n",
    "\n",
    "for ui_alternative in ui_alternatives:\n",
    "    for user_id in action_log.keys():\n",
    "        counter = 0\n",
    "        for action_id in action_log[user_id].keys():\n",
    "            if 'action' in action_log[user_id][action_id] and action_log[user_id][action_id]['action'] == 1 and 'description' in action_log[user_id][action_id] and ui_alternative in action_log[user_id][action_id]['description']:\n",
    "                counter = counter + 1\n",
    "\n",
    "        statistics[user_id][ui_alternative] = counter\n",
    "\n",
    "print(statistics['107711334134980088812'])\n"
   ]
  },
  {
   "cell_type": "markdown",
   "metadata": {},
   "source": [
    "#### Export Action Statistics\n"
   ]
  },
  {
   "cell_type": "code",
   "execution_count": 32,
   "metadata": {},
   "outputs": [],
   "source": [
    "data = {}\n",
    "for user_id in statistics:\n",
    "    for key in statistics[user_id]:\n",
    "        if key in data:\n",
    "            data[key].append(statistics[user_id][key])\n",
    "        else:\n",
    "            data[key] = [statistics[user_id][key]]\n",
    "\n",
    "df_action = pd.DataFrame(data)\n",
    "df_action.to_excel('./data/export/user_action_statistics_20220831.xlsx')\n"
   ]
  },
  {
   "cell_type": "code",
   "execution_count": null,
   "metadata": {},
   "outputs": [],
   "source": []
  }
 ],
 "metadata": {
  "kernelspec": {
   "display_name": "Python 3.7.0 ('nlp')",
   "language": "python",
   "name": "python3"
  },
  "language_info": {
   "codemirror_mode": {
    "name": "ipython",
    "version": 3
   },
   "file_extension": ".py",
   "mimetype": "text/x-python",
   "name": "python",
   "nbconvert_exporter": "python",
   "pygments_lexer": "ipython3",
   "version": "3.7.0"
  },
  "orig_nbformat": 4,
  "vscode": {
   "interpreter": {
    "hash": "9293985de1cf4e2c3aa40c4cf1f5da2f03c5c98420dc5d0e8935976a7852b3b5"
   }
  }
 },
 "nbformat": 4,
 "nbformat_minor": 2
}
